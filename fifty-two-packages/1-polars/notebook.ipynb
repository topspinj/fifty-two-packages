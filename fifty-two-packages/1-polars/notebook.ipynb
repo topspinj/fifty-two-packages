{
 "cells": [
  {
   "cell_type": "markdown",
   "id": "5edc2593",
   "metadata": {},
   "source": [
    "# Polars\n",
    "\n",
    "- [Website](https://pola.rs/)\n",
    "- [Github repo](https://github.com/pola-rs/polars)\n",
    "\n",
    "\n",
    "[Pandas](https://pandas.pydata.org/) (the Python package) is a great easy-to-use library for exploring and apply transformations to dataframes. However, one of its limitations is that it doesn't perform well with larger datasets. Pandas stores data in-memory and has a memory limit of 100GB. \n",
    "\n",
    "For use cases where you're dealing with data beyond the 100GB memory threshold, this is where Polars shines. Polars, which was built with Rust and uses Apache Arrow's columnar format, is said to execute common operations [10-100 times faster](https://blog.jetbrains.com/dataspell/2023/08/polars-vs-pandas-what-s-the-difference/#:~:text=As%20you%20can%20see%2C%20Polars,out%2Dof%2Dmemory%20errors.) than Pandas . With Polars' Lazy DataFrame, we can also handle larger-than-memory data beyond the 100GB threshold. "
   ]
  },
  {
   "cell_type": "markdown",
   "id": "a8594410",
   "metadata": {},
   "source": [
    "```\n",
    "pip install polars\n",
    "```"
   ]
  },
  {
   "cell_type": "code",
   "execution_count": 1,
   "id": "5a8f8baa",
   "metadata": {},
   "outputs": [],
   "source": [
    "import polars as pl\n",
    "\n",
    "df = pl.read_csv(\"data/airbnb_nyc_2019.csv\")"
   ]
  },
  {
   "cell_type": "markdown",
   "id": "1ceeed2d",
   "metadata": {},
   "source": [
    "Polars is able to read several file formats including:\n",
    "- csv \n",
    "- json \n",
    "- parquet \n",
    "\n",
    "You can check out the full list of Polars functions [here](https://pola-rs.github.io/polars/py-polars/html/reference/expressions/functions.html). Some of these functions are identical to what Pandas offers (e.g., head, max, mean, n_unique)."
   ]
  },
  {
   "cell_type": "code",
   "execution_count": 2,
   "id": "5c622ef6",
   "metadata": {},
   "outputs": [
    {
     "data": {
      "text/html": [
       "<div><style>\n",
       ".dataframe > thead > tr,\n",
       ".dataframe > tbody > tr {\n",
       "  text-align: right;\n",
       "  white-space: pre-wrap;\n",
       "}\n",
       "</style>\n",
       "<small>shape: (2, 16)</small><table border=\"1\" class=\"dataframe\"><thead><tr><th>id</th><th>name</th><th>host_id</th><th>host_name</th><th>neighbourhood_group</th><th>neighbourhood</th><th>latitude</th><th>longitude</th><th>room_type</th><th>price</th><th>minimum_nights</th><th>number_of_reviews</th><th>last_review</th><th>reviews_per_month</th><th>calculated_host_listings_count</th><th>availability_365</th></tr><tr><td>i64</td><td>str</td><td>i64</td><td>str</td><td>str</td><td>str</td><td>f64</td><td>f64</td><td>str</td><td>i64</td><td>i64</td><td>i64</td><td>str</td><td>f64</td><td>i64</td><td>i64</td></tr></thead><tbody><tr><td>2539</td><td>&quot;Clean &amp; quiet …</td><td>2787</td><td>&quot;John&quot;</td><td>&quot;Brooklyn&quot;</td><td>&quot;Kensington&quot;</td><td>40.64749</td><td>-73.97237</td><td>&quot;Private room&quot;</td><td>149</td><td>1</td><td>9</td><td>&quot;2018-10-19&quot;</td><td>0.21</td><td>6</td><td>365</td></tr><tr><td>2595</td><td>&quot;Skylit Midtown…</td><td>2845</td><td>&quot;Jennifer&quot;</td><td>&quot;Manhattan&quot;</td><td>&quot;Midtown&quot;</td><td>40.75362</td><td>-73.98377</td><td>&quot;Entire home/ap…</td><td>225</td><td>1</td><td>45</td><td>&quot;2019-05-21&quot;</td><td>0.38</td><td>2</td><td>355</td></tr></tbody></table></div>"
      ],
      "text/plain": [
       "shape: (2, 16)\n",
       "┌──────┬─────────────┬─────────┬───────────┬───┬────────────┬────────────┬────────────┬────────────┐\n",
       "│ id   ┆ name        ┆ host_id ┆ host_name ┆ … ┆ last_revie ┆ reviews_pe ┆ calculated ┆ availabili │\n",
       "│ ---  ┆ ---         ┆ ---     ┆ ---       ┆   ┆ w          ┆ r_month    ┆ _host_list ┆ ty_365     │\n",
       "│ i64  ┆ str         ┆ i64     ┆ str       ┆   ┆ ---        ┆ ---        ┆ ings_count ┆ ---        │\n",
       "│      ┆             ┆         ┆           ┆   ┆ str        ┆ f64        ┆ ---        ┆ i64        │\n",
       "│      ┆             ┆         ┆           ┆   ┆            ┆            ┆ i64        ┆            │\n",
       "╞══════╪═════════════╪═════════╪═══════════╪═══╪════════════╪════════════╪════════════╪════════════╡\n",
       "│ 2539 ┆ Clean &     ┆ 2787    ┆ John      ┆ … ┆ 2018-10-19 ┆ 0.21       ┆ 6          ┆ 365        │\n",
       "│      ┆ quiet apt   ┆         ┆           ┆   ┆            ┆            ┆            ┆            │\n",
       "│      ┆ home by the ┆         ┆           ┆   ┆            ┆            ┆            ┆            │\n",
       "│      ┆ pa…         ┆         ┆           ┆   ┆            ┆            ┆            ┆            │\n",
       "│ 2595 ┆ Skylit      ┆ 2845    ┆ Jennifer  ┆ … ┆ 2019-05-21 ┆ 0.38       ┆ 2          ┆ 355        │\n",
       "│      ┆ Midtown     ┆         ┆           ┆   ┆            ┆            ┆            ┆            │\n",
       "│      ┆ Castle      ┆         ┆           ┆   ┆            ┆            ┆            ┆            │\n",
       "└──────┴─────────────┴─────────┴───────────┴───┴────────────┴────────────┴────────────┴────────────┘"
      ]
     },
     "execution_count": 2,
     "metadata": {},
     "output_type": "execute_result"
    }
   ],
   "source": [
    "df.head(2)"
   ]
  },
  {
   "cell_type": "markdown",
   "id": "cdd15cb7",
   "metadata": {},
   "source": [
    "### Select\n",
    "\n",
    "The `select` method allows you to select the columns that you care about. You can also chain methods together as shown below. "
   ]
  },
  {
   "cell_type": "code",
   "execution_count": 3,
   "id": "c28a0aff",
   "metadata": {},
   "outputs": [
    {
     "data": {
      "text/html": [
       "<div><style>\n",
       ".dataframe > thead > tr,\n",
       ".dataframe > tbody > tr {\n",
       "  text-align: right;\n",
       "  white-space: pre-wrap;\n",
       "}\n",
       "</style>\n",
       "<small>shape: (5, 2)</small><table border=\"1\" class=\"dataframe\"><thead><tr><th>id</th><th>name</th></tr><tr><td>i64</td><td>str</td></tr></thead><tbody><tr><td>36484665</td><td>&quot;Charming one b…</td></tr><tr><td>36485057</td><td>&quot;Affordable roo…</td></tr><tr><td>36485431</td><td>&quot;Sunny Studio a…</td></tr><tr><td>36485609</td><td>&quot;43rd St. Time …</td></tr><tr><td>36487245</td><td>&quot;Trendy duplex …</td></tr></tbody></table></div>"
      ],
      "text/plain": [
       "shape: (5, 2)\n",
       "┌──────────┬───────────────────────────────────┐\n",
       "│ id       ┆ name                              │\n",
       "│ ---      ┆ ---                               │\n",
       "│ i64      ┆ str                               │\n",
       "╞══════════╪═══════════════════════════════════╡\n",
       "│ 36484665 ┆ Charming one bedroom - newly ren… │\n",
       "│ 36485057 ┆ Affordable room in Bushwick/East… │\n",
       "│ 36485431 ┆ Sunny Studio at Historical Neigh… │\n",
       "│ 36485609 ┆ 43rd St. Time Square-cozy single… │\n",
       "│ 36487245 ┆ Trendy duplex in the very heart … │\n",
       "└──────────┴───────────────────────────────────┘"
      ]
     },
     "execution_count": 3,
     "metadata": {},
     "output_type": "execute_result"
    }
   ],
   "source": [
    "df.select(pl.col(\"id\", \"name\")).tail()"
   ]
  },
  {
   "cell_type": "markdown",
   "id": "3bd8eded",
   "metadata": {},
   "source": [
    "### Filter\n",
    "\n",
    "The `filter` method really reminds me of [PySpark's filter()](https://spark.apache.org/docs/latest/api/python/reference/pyspark.sql/api/pyspark.sql.DataFrame.filter.html). "
   ]
  },
  {
   "cell_type": "code",
   "execution_count": 4,
   "id": "833eabb0",
   "metadata": {},
   "outputs": [
    {
     "data": {
      "text/plain": [
       "(2890, 16)"
      ]
     },
     "execution_count": 4,
     "metadata": {},
     "output_type": "execute_result"
    }
   ],
   "source": [
    "import datetime as datetime \n",
    "\n",
    "df.filter(\n",
    "    (pl.col(\"number_of_reviews\") > 100) & (pl.col(\"price\") < 300)\n",
    ").shape"
   ]
  },
  {
   "cell_type": "markdown",
   "id": "3cce763c",
   "metadata": {},
   "source": [
    "### Casting to a different datatype\n",
    "\n",
    "Casting a series to another datatype took a while to figure out but it's pretty straight-forward. Also very similar to PySpark's syntax."
   ]
  },
  {
   "cell_type": "code",
   "execution_count": 5,
   "id": "752e03f1",
   "metadata": {},
   "outputs": [
    {
     "data": {
      "text/html": [
       "<div><style>\n",
       ".dataframe > thead > tr,\n",
       ".dataframe > tbody > tr {\n",
       "  text-align: right;\n",
       "  white-space: pre-wrap;\n",
       "}\n",
       "</style>\n",
       "<small>shape: (5, 1)</small><table border=\"1\" class=\"dataframe\"><thead><tr><th>last_review</th></tr><tr><td>datetime[μs]</td></tr></thead><tbody><tr><td>2018-10-19 00:00:00</td></tr><tr><td>2019-05-21 00:00:00</td></tr><tr><td>2019-07-05 00:00:00</td></tr><tr><td>2018-11-19 00:00:00</td></tr><tr><td>2019-06-22 00:00:00</td></tr></tbody></table></div>"
      ],
      "text/plain": [
       "shape: (5, 1)\n",
       "┌─────────────────────┐\n",
       "│ last_review         │\n",
       "│ ---                 │\n",
       "│ datetime[μs]        │\n",
       "╞═════════════════════╡\n",
       "│ 2018-10-19 00:00:00 │\n",
       "│ 2019-05-21 00:00:00 │\n",
       "│ 2019-07-05 00:00:00 │\n",
       "│ 2018-11-19 00:00:00 │\n",
       "│ 2019-06-22 00:00:00 │\n",
       "└─────────────────────┘"
      ]
     },
     "execution_count": 5,
     "metadata": {},
     "output_type": "execute_result"
    }
   ],
   "source": [
    "df.drop_nulls(\n",
    "    subset=\"last_review\"\n",
    ").with_columns(\n",
    "    pl.col(\"last_review\").str.to_datetime(\"%Y-%m-%d\")\n",
    ").select(\n",
    "    pl.col(\"last_review\")\n",
    ").head(5)"
   ]
  },
  {
   "cell_type": "markdown",
   "id": "d16d1967",
   "metadata": {},
   "source": [
    "### Grouping By"
   ]
  },
  {
   "cell_type": "code",
   "execution_count": 6,
   "id": "7b5edace",
   "metadata": {},
   "outputs": [
    {
     "data": {
      "text/html": [
       "<div><style>\n",
       ".dataframe > thead > tr,\n",
       ".dataframe > tbody > tr {\n",
       "  text-align: right;\n",
       "  white-space: pre-wrap;\n",
       "}\n",
       "</style>\n",
       "<small>shape: (5, 2)</small><table border=\"1\" class=\"dataframe\"><thead><tr><th>neighbourhood_group</th><th>number_of_listings</th></tr><tr><td>str</td><td>u32</td></tr></thead><tbody><tr><td>&quot;Brooklyn&quot;</td><td>20104</td></tr><tr><td>&quot;Bronx&quot;</td><td>1091</td></tr><tr><td>&quot;Queens&quot;</td><td>5666</td></tr><tr><td>&quot;Manhattan&quot;</td><td>21661</td></tr><tr><td>&quot;Staten Island&quot;</td><td>373</td></tr></tbody></table></div>"
      ],
      "text/plain": [
       "shape: (5, 2)\n",
       "┌─────────────────────┬────────────────────┐\n",
       "│ neighbourhood_group ┆ number_of_listings │\n",
       "│ ---                 ┆ ---                │\n",
       "│ str                 ┆ u32                │\n",
       "╞═════════════════════╪════════════════════╡\n",
       "│ Brooklyn            ┆ 20104              │\n",
       "│ Bronx               ┆ 1091               │\n",
       "│ Queens              ┆ 5666               │\n",
       "│ Manhattan           ┆ 21661              │\n",
       "│ Staten Island       ┆ 373                │\n",
       "└─────────────────────┴────────────────────┘"
      ]
     },
     "execution_count": 6,
     "metadata": {},
     "output_type": "execute_result"
    }
   ],
   "source": [
    "df.group_by(\n",
    "    \"neighbourhood_group\"\n",
    ").agg(\n",
    "    pl.col(\"id\").count().alias(\"number_of_listings\")\n",
    ")"
   ]
  },
  {
   "cell_type": "code",
   "execution_count": 7,
   "id": "145cbca8",
   "metadata": {},
   "outputs": [
    {
     "data": {
      "text/html": [
       "<div><style>\n",
       ".dataframe > thead > tr,\n",
       ".dataframe > tbody > tr {\n",
       "  text-align: right;\n",
       "  white-space: pre-wrap;\n",
       "}\n",
       "</style>\n",
       "<small>shape: (1, 16)</small><table border=\"1\" class=\"dataframe\"><thead><tr><th>id</th><th>name</th><th>host_id</th><th>host_name</th><th>neighbourhood_group</th><th>neighbourhood</th><th>latitude</th><th>longitude</th><th>room_type</th><th>price</th><th>minimum_nights</th><th>number_of_reviews</th><th>last_review</th><th>reviews_per_month</th><th>calculated_host_listings_count</th><th>availability_365</th></tr><tr><td>u32</td><td>u32</td><td>u32</td><td>u32</td><td>u32</td><td>u32</td><td>u32</td><td>u32</td><td>u32</td><td>u32</td><td>u32</td><td>u32</td><td>u32</td><td>u32</td><td>u32</td><td>u32</td></tr></thead><tbody><tr><td>0</td><td>0</td><td>0</td><td>21</td><td>0</td><td>0</td><td>0</td><td>0</td><td>0</td><td>0</td><td>0</td><td>0</td><td>10052</td><td>10052</td><td>0</td><td>0</td></tr></tbody></table></div>"
      ],
      "text/plain": [
       "shape: (1, 16)\n",
       "┌─────┬──────┬─────────┬───────────┬───┬─────────────┬───────────────┬──────────────┬──────────────┐\n",
       "│ id  ┆ name ┆ host_id ┆ host_name ┆ … ┆ last_review ┆ reviews_per_m ┆ calculated_h ┆ availability │\n",
       "│ --- ┆ ---  ┆ ---     ┆ ---       ┆   ┆ ---         ┆ onth          ┆ ost_listings ┆ _365         │\n",
       "│ u32 ┆ u32  ┆ u32     ┆ u32       ┆   ┆ u32         ┆ ---           ┆ _count       ┆ ---          │\n",
       "│     ┆      ┆         ┆           ┆   ┆             ┆ u32           ┆ ---          ┆ u32          │\n",
       "│     ┆      ┆         ┆           ┆   ┆             ┆               ┆ u32          ┆              │\n",
       "╞═════╪══════╪═════════╪═══════════╪═══╪═════════════╪═══════════════╪══════════════╪══════════════╡\n",
       "│ 0   ┆ 0    ┆ 0       ┆ 21        ┆ … ┆ 10052       ┆ 10052         ┆ 0            ┆ 0            │\n",
       "└─────┴──────┴─────────┴───────────┴───┴─────────────┴───────────────┴──────────────┴──────────────┘"
      ]
     },
     "execution_count": 7,
     "metadata": {},
     "output_type": "execute_result"
    }
   ],
   "source": [
    "df.null_count()"
   ]
  },
  {
   "cell_type": "markdown",
   "id": "81bdefb8",
   "metadata": {},
   "source": [
    "### Exploring the Lazy vs Eager API\n",
    "\n",
    "The Lazy API evaluates a query on an as-needed basis. It reduces its load on memory by using optimizations like:\n",
    "\n",
    "- Predicate pushdown: applies filters as early as possible, so that you only read in the rows that are required for the query \n",
    "- Projection pushdown: only loads the columns that are needed\n",
    "\n",
    "In almost all cases, the Lazy API is favoured over the Eager API, with the exception of scenarios where you're not familiar with the data and want to do exploratory data analysis."
   ]
  },
  {
   "cell_type": "markdown",
   "id": "1e49b074",
   "metadata": {},
   "source": [
    "To call the Lazy API, you can use `scan_csv` (instead of `read_csv`). "
   ]
  },
  {
   "cell_type": "code",
   "execution_count": 8,
   "id": "088d7fd2",
   "metadata": {},
   "outputs": [
    {
     "data": {
      "text/plain": [
       "(1044, 16)"
      ]
     },
     "execution_count": 8,
     "metadata": {},
     "output_type": "execute_result"
    }
   ],
   "source": [
    "df_lazy = (\n",
    "    pl.scan_csv(\"data/airbnb_nyc_2019.csv\")\n",
    "    .with_columns(pl.col(\"neighbourhood_group\").str.to_uppercase())\n",
    "    .filter(pl.col(\"price\") > 500)\n",
    "    .collect()\n",
    ")\n",
    "df_lazy.shape"
   ]
  },
  {
   "cell_type": "markdown",
   "id": "b4b14da2",
   "metadata": {},
   "source": [
    "💡 The `collect()` method needs to be appended at the end. This is what executes the query. \n",
    "\n",
    "❗ The output of the query above is not cached. So if we want to re-use this same operation downstream, it'll be re-computed from scratch. "
   ]
  },
  {
   "cell_type": "markdown",
   "id": "866586c1",
   "metadata": {},
   "source": [
    "If you're working with a massive dataset, you can execute your queries on a subset of the data using the `fetch()` method. The `n_rows` parameter indicates how many rows from the dataset you'd like to use. "
   ]
  },
  {
   "cell_type": "code",
   "execution_count": 9,
   "id": "39e2a7bf",
   "metadata": {},
   "outputs": [
    {
     "data": {
      "text/plain": [
       "(2, 16)"
      ]
     },
     "execution_count": 9,
     "metadata": {},
     "output_type": "execute_result"
    }
   ],
   "source": [
    "df_lazy = (\n",
    "    pl.scan_csv(\"data/airbnb_nyc_2019.csv\")\n",
    "    .with_columns(pl.col(\"neighbourhood_group\").str.to_uppercase())\n",
    "    .filter(pl.col(\"price\") > 500)\n",
    "    .fetch(n_rows=300)\n",
    ")\n",
    "df_lazy.shape"
   ]
  },
  {
   "cell_type": "markdown",
   "id": "72454617",
   "metadata": {},
   "source": [
    "### Streaming API\n",
    "\n",
    "The Lazy API also offers a streaming option. This is super useful when you're dealing with a larger-than-memory dataset and don't want to execute your query in one big batch. With streaming, you can execute the query in smaller batches which makes it easier to process extremely large datasets. \n",
    "\n",
    "You can configure the size of each batch using `set_streaming_chunk_size` as shown below:"
   ]
  },
  {
   "cell_type": "code",
   "execution_count": 10,
   "id": "c09f210c",
   "metadata": {},
   "outputs": [
    {
     "data": {
      "text/html": [
       "<div><style>\n",
       ".dataframe > thead > tr,\n",
       ".dataframe > tbody > tr {\n",
       "  text-align: right;\n",
       "  white-space: pre-wrap;\n",
       "}\n",
       "</style>\n",
       "<small>shape: (5, 2)</small><table border=\"1\" class=\"dataframe\"><thead><tr><th>neighbourhood_group</th><th>price</th></tr><tr><td>str</td><td>i64</td></tr></thead><tbody><tr><td>&quot;BROOKLYN&quot;</td><td>800</td></tr><tr><td>&quot;MANHATTAN&quot;</td><td>575</td></tr><tr><td>&quot;BROOKLYN&quot;</td><td>650</td></tr><tr><td>&quot;BROOKLYN&quot;</td><td>599</td></tr><tr><td>&quot;MANHATTAN&quot;</td><td>2000</td></tr></tbody></table></div>"
      ],
      "text/plain": [
       "shape: (5, 2)\n",
       "┌─────────────────────┬───────┐\n",
       "│ neighbourhood_group ┆ price │\n",
       "│ ---                 ┆ ---   │\n",
       "│ str                 ┆ i64   │\n",
       "╞═════════════════════╪═══════╡\n",
       "│ BROOKLYN            ┆ 800   │\n",
       "│ MANHATTAN           ┆ 575   │\n",
       "│ BROOKLYN            ┆ 650   │\n",
       "│ BROOKLYN            ┆ 599   │\n",
       "│ MANHATTAN           ┆ 2000  │\n",
       "└─────────────────────┴───────┘"
      ]
     },
     "execution_count": 10,
     "metadata": {},
     "output_type": "execute_result"
    }
   ],
   "source": [
    "pl.Config.set_streaming_chunk_size(100)\n",
    "df_lazy = (\n",
    "    pl.scan_csv(\"data/airbnb_nyc_2019.csv\")\n",
    "    .select(pl.col(\"neighbourhood_group\", \"price\"))\n",
    "    .with_columns(pl.col(\"neighbourhood_group\").str.to_uppercase())\n",
    "    .filter(pl.col(\"price\") > 500)\n",
    "    .collect(streaming=True)\n",
    ")\n",
    "df_lazy.head()"
   ]
  },
  {
   "cell_type": "markdown",
   "id": "1150c662",
   "metadata": {},
   "source": [
    "❗ Streaming API is a new Polars feature and is still under construction. Streaming is only offered for a handle of operators including:\n",
    "- `filter`\n",
    "- `slice`\n",
    "- `with_columns`\n",
    "- `select`\n",
    "- `group_by`\n",
    "- `join`\n",
    "- `sort`\n",
    "- `scan_csv` \n",
    "- `explode` and `melt` "
   ]
  }
 ],
 "metadata": {
  "kernelspec": {
   "display_name": "Python 3 (ipykernel)",
   "language": "python",
   "name": "python3"
  },
  "language_info": {
   "codemirror_mode": {
    "name": "ipython",
    "version": 3
   },
   "file_extension": ".py",
   "mimetype": "text/x-python",
   "name": "python",
   "nbconvert_exporter": "python",
   "pygments_lexer": "ipython3",
   "version": "3.8.9"
  }
 },
 "nbformat": 4,
 "nbformat_minor": 5
}
