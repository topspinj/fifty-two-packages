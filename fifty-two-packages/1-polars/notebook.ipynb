{
 "cells": [
  {
   "cell_type": "markdown",
   "id": "5edc2593",
   "metadata": {},
   "source": [
    "# Polars\n",
    "\n",
    "- [Website](https://pola.rs/)\n",
    "- [Github repo](https://github.com/pola-rs/polars)\n",
    "\n",
    "\n",
    "[Pandas](https://pandas.pydata.org/) (the Python package) is a great easy-to-use library for exploring and apply transformations to dataframes. However, one of its limitations is that it doesn't perform well with larger datasets. Pandas stores data in-memory and has a memory limit of 100GB. \n",
    "\n",
    "For use cases where you're dealing with data beyond the 100GB memory threshold, this is where Polars shines. Polars, which was built with Rust and uses Apache Arrow's columnar format, is said to execute common operations [10-100 times faster](https://blog.jetbrains.com/dataspell/2023/08/polars-vs-pandas-what-s-the-difference/#:~:text=As%20you%20can%20see%2C%20Polars,out%2Dof%2Dmemory%20errors.) than Pandas . With Polars' Lazy DataFrame, we can also handle larger-than-memory data beyond the 100GB threshold. "
   ]
  },
  {
   "cell_type": "markdown",
   "id": "a8594410",
   "metadata": {},
   "source": [
    "```\n",
    "pip install polars\n",
    "```"
   ]
  },
  {
   "cell_type": "code",
   "execution_count": 5,
   "id": "5a8f8baa",
   "metadata": {},
   "outputs": [],
   "source": [
    "import polars as pl\n",
    "\n",
    "df = pl.read_csv(\"data/airbnb_nyc_2019.csv\")"
   ]
  },
  {
   "cell_type": "markdown",
   "id": "ef7259dd",
   "metadata": {},
   "source": [
    "Polars is able to read several file formats including:\n",
    "- csv \n",
    "- json \n",
    "- parquet \n",
    "\n",
    "You can check out the full list of Polars functions [here](https://pola-rs.github.io/polars/py-polars/html/reference/expressions/functions.html). Some of these functions are identical to what Pandas offers (e.g., head, max, mean, n_unique)."
   ]
  },
  {
   "cell_type": "code",
   "execution_count": 11,
   "id": "d6fa84f4",
   "metadata": {},
   "outputs": [
    {
     "data": {
      "text/html": [
       "<div><style>\n",
       ".dataframe > thead > tr,\n",
       ".dataframe > tbody > tr {\n",
       "  text-align: right;\n",
       "  white-space: pre-wrap;\n",
       "}\n",
       "</style>\n",
       "<small>shape: (2, 16)</small><table border=\"1\" class=\"dataframe\"><thead><tr><th>id</th><th>name</th><th>host_id</th><th>host_name</th><th>neighbourhood_group</th><th>neighbourhood</th><th>latitude</th><th>longitude</th><th>room_type</th><th>price</th><th>minimum_nights</th><th>number_of_reviews</th><th>last_review</th><th>reviews_per_month</th><th>calculated_host_listings_count</th><th>availability_365</th></tr><tr><td>i64</td><td>str</td><td>i64</td><td>str</td><td>str</td><td>str</td><td>f64</td><td>f64</td><td>str</td><td>i64</td><td>i64</td><td>i64</td><td>str</td><td>f64</td><td>i64</td><td>i64</td></tr></thead><tbody><tr><td>2539</td><td>&quot;Clean &amp; quiet …</td><td>2787</td><td>&quot;John&quot;</td><td>&quot;Brooklyn&quot;</td><td>&quot;Kensington&quot;</td><td>40.64749</td><td>-73.97237</td><td>&quot;Private room&quot;</td><td>149</td><td>1</td><td>9</td><td>&quot;2018-10-19&quot;</td><td>0.21</td><td>6</td><td>365</td></tr><tr><td>2595</td><td>&quot;Skylit Midtown…</td><td>2845</td><td>&quot;Jennifer&quot;</td><td>&quot;Manhattan&quot;</td><td>&quot;Midtown&quot;</td><td>40.75362</td><td>-73.98377</td><td>&quot;Entire home/ap…</td><td>225</td><td>1</td><td>45</td><td>&quot;2019-05-21&quot;</td><td>0.38</td><td>2</td><td>355</td></tr></tbody></table></div>"
      ],
      "text/plain": [
       "shape: (2, 16)\n",
       "┌──────┬─────────────┬─────────┬───────────┬───┬────────────┬────────────┬────────────┬────────────┐\n",
       "│ id   ┆ name        ┆ host_id ┆ host_name ┆ … ┆ last_revie ┆ reviews_pe ┆ calculated ┆ availabili │\n",
       "│ ---  ┆ ---         ┆ ---     ┆ ---       ┆   ┆ w          ┆ r_month    ┆ _host_list ┆ ty_365     │\n",
       "│ i64  ┆ str         ┆ i64     ┆ str       ┆   ┆ ---        ┆ ---        ┆ ings_count ┆ ---        │\n",
       "│      ┆             ┆         ┆           ┆   ┆ str        ┆ f64        ┆ ---        ┆ i64        │\n",
       "│      ┆             ┆         ┆           ┆   ┆            ┆            ┆ i64        ┆            │\n",
       "╞══════╪═════════════╪═════════╪═══════════╪═══╪════════════╪════════════╪════════════╪════════════╡\n",
       "│ 2539 ┆ Clean &     ┆ 2787    ┆ John      ┆ … ┆ 2018-10-19 ┆ 0.21       ┆ 6          ┆ 365        │\n",
       "│      ┆ quiet apt   ┆         ┆           ┆   ┆            ┆            ┆            ┆            │\n",
       "│      ┆ home by the ┆         ┆           ┆   ┆            ┆            ┆            ┆            │\n",
       "│      ┆ pa…         ┆         ┆           ┆   ┆            ┆            ┆            ┆            │\n",
       "│ 2595 ┆ Skylit      ┆ 2845    ┆ Jennifer  ┆ … ┆ 2019-05-21 ┆ 0.38       ┆ 2          ┆ 355        │\n",
       "│      ┆ Midtown     ┆         ┆           ┆   ┆            ┆            ┆            ┆            │\n",
       "│      ┆ Castle      ┆         ┆           ┆   ┆            ┆            ┆            ┆            │\n",
       "└──────┴─────────────┴─────────┴───────────┴───┴────────────┴────────────┴────────────┴────────────┘"
      ]
     },
     "execution_count": 11,
     "metadata": {},
     "output_type": "execute_result"
    }
   ],
   "source": [
    "df.head(2)"
   ]
  },
  {
   "cell_type": "markdown",
   "id": "0f8c7816",
   "metadata": {},
   "source": [
    "### Select\n",
    "\n",
    "The `select` method allows you to select the columns that you care about. You can also chain methods together as shown below. "
   ]
  },
  {
   "cell_type": "code",
   "execution_count": 14,
   "id": "ba5ccfa0",
   "metadata": {},
   "outputs": [
    {
     "data": {
      "text/html": [
       "<div><style>\n",
       ".dataframe > thead > tr,\n",
       ".dataframe > tbody > tr {\n",
       "  text-align: right;\n",
       "  white-space: pre-wrap;\n",
       "}\n",
       "</style>\n",
       "<small>shape: (5, 2)</small><table border=\"1\" class=\"dataframe\"><thead><tr><th>id</th><th>name</th></tr><tr><td>i64</td><td>str</td></tr></thead><tbody><tr><td>36484665</td><td>&quot;Charming one b…</td></tr><tr><td>36485057</td><td>&quot;Affordable roo…</td></tr><tr><td>36485431</td><td>&quot;Sunny Studio a…</td></tr><tr><td>36485609</td><td>&quot;43rd St. Time …</td></tr><tr><td>36487245</td><td>&quot;Trendy duplex …</td></tr></tbody></table></div>"
      ],
      "text/plain": [
       "shape: (5, 2)\n",
       "┌──────────┬───────────────────────────────────┐\n",
       "│ id       ┆ name                              │\n",
       "│ ---      ┆ ---                               │\n",
       "│ i64      ┆ str                               │\n",
       "╞══════════╪═══════════════════════════════════╡\n",
       "│ 36484665 ┆ Charming one bedroom - newly ren… │\n",
       "│ 36485057 ┆ Affordable room in Bushwick/East… │\n",
       "│ 36485431 ┆ Sunny Studio at Historical Neigh… │\n",
       "│ 36485609 ┆ 43rd St. Time Square-cozy single… │\n",
       "│ 36487245 ┆ Trendy duplex in the very heart … │\n",
       "└──────────┴───────────────────────────────────┘"
      ]
     },
     "execution_count": 14,
     "metadata": {},
     "output_type": "execute_result"
    }
   ],
   "source": [
    "df.select(pl.col(\"id\", \"name\")).tail()"
   ]
  },
  {
   "cell_type": "markdown",
   "id": "6c638c2b",
   "metadata": {},
   "source": [
    "### Filter\n",
    "\n",
    "The `filter` method really reminds me of [PySpark's filter()](https://spark.apache.org/docs/latest/api/python/reference/pyspark.sql/api/pyspark.sql.DataFrame.filter.html). "
   ]
  },
  {
   "cell_type": "code",
   "execution_count": 21,
   "id": "c216b534",
   "metadata": {},
   "outputs": [
    {
     "data": {
      "text/plain": [
       "(2890, 16)"
      ]
     },
     "execution_count": 21,
     "metadata": {},
     "output_type": "execute_result"
    }
   ],
   "source": [
    "import datetime as datetime \n",
    "\n",
    "df.filter(\n",
    "    (pl.col(\"number_of_reviews\") > 100) & (pl.col(\"price\") < 300)\n",
    ").shape"
   ]
  },
  {
   "cell_type": "markdown",
   "id": "2d0296cc",
   "metadata": {},
   "source": [
    "### Casting to a different datatype\n",
    "\n",
    "Casting a series to another datatype took a while to figure out but it's pretty straight-forward. Also very similar to PySpark's syntax."
   ]
  },
  {
   "cell_type": "code",
   "execution_count": 43,
   "id": "e2e55575",
   "metadata": {},
   "outputs": [
    {
     "data": {
      "text/html": [
       "<div><style>\n",
       ".dataframe > thead > tr,\n",
       ".dataframe > tbody > tr {\n",
       "  text-align: right;\n",
       "  white-space: pre-wrap;\n",
       "}\n",
       "</style>\n",
       "<small>shape: (5, 1)</small><table border=\"1\" class=\"dataframe\"><thead><tr><th>last_review</th></tr><tr><td>datetime[μs]</td></tr></thead><tbody><tr><td>2018-10-19 00:00:00</td></tr><tr><td>2019-05-21 00:00:00</td></tr><tr><td>2019-07-05 00:00:00</td></tr><tr><td>2018-11-19 00:00:00</td></tr><tr><td>2019-06-22 00:00:00</td></tr></tbody></table></div>"
      ],
      "text/plain": [
       "shape: (5, 1)\n",
       "┌─────────────────────┐\n",
       "│ last_review         │\n",
       "│ ---                 │\n",
       "│ datetime[μs]        │\n",
       "╞═════════════════════╡\n",
       "│ 2018-10-19 00:00:00 │\n",
       "│ 2019-05-21 00:00:00 │\n",
       "│ 2019-07-05 00:00:00 │\n",
       "│ 2018-11-19 00:00:00 │\n",
       "│ 2019-06-22 00:00:00 │\n",
       "└─────────────────────┘"
      ]
     },
     "execution_count": 43,
     "metadata": {},
     "output_type": "execute_result"
    }
   ],
   "source": [
    "df.drop_nulls(\n",
    "    subset=\"last_review\"\n",
    ").with_columns(\n",
    "    pl.col(\"last_review\").str.to_datetime(\"%Y-%m-%d\")\n",
    ").select(\n",
    "    pl.col(\"last_review\")\n",
    ").head(5)"
   ]
  },
  {
   "cell_type": "markdown",
   "id": "58e275ac",
   "metadata": {},
   "source": [
    "### Grouping By"
   ]
  },
  {
   "cell_type": "code",
   "execution_count": 47,
   "id": "c7f9c412",
   "metadata": {},
   "outputs": [
    {
     "data": {
      "text/html": [
       "<div><style>\n",
       ".dataframe > thead > tr,\n",
       ".dataframe > tbody > tr {\n",
       "  text-align: right;\n",
       "  white-space: pre-wrap;\n",
       "}\n",
       "</style>\n",
       "<small>shape: (5, 2)</small><table border=\"1\" class=\"dataframe\"><thead><tr><th>neighbourhood_group</th><th>number_of_listings</th></tr><tr><td>str</td><td>u32</td></tr></thead><tbody><tr><td>&quot;Staten Island&quot;</td><td>373</td></tr><tr><td>&quot;Queens&quot;</td><td>5666</td></tr><tr><td>&quot;Bronx&quot;</td><td>1091</td></tr><tr><td>&quot;Manhattan&quot;</td><td>21661</td></tr><tr><td>&quot;Brooklyn&quot;</td><td>20104</td></tr></tbody></table></div>"
      ],
      "text/plain": [
       "shape: (5, 2)\n",
       "┌─────────────────────┬────────────────────┐\n",
       "│ neighbourhood_group ┆ number_of_listings │\n",
       "│ ---                 ┆ ---                │\n",
       "│ str                 ┆ u32                │\n",
       "╞═════════════════════╪════════════════════╡\n",
       "│ Staten Island       ┆ 373                │\n",
       "│ Queens              ┆ 5666               │\n",
       "│ Bronx               ┆ 1091               │\n",
       "│ Manhattan           ┆ 21661              │\n",
       "│ Brooklyn            ┆ 20104              │\n",
       "└─────────────────────┴────────────────────┘"
      ]
     },
     "execution_count": 47,
     "metadata": {},
     "output_type": "execute_result"
    }
   ],
   "source": [
    "df.group_by(\n",
    "    \"neighbourhood_group\"\n",
    ").agg(\n",
    "    pl.col(\"id\").count().alias(\"number_of_listings\")\n",
    ")"
   ]
  },
  {
   "cell_type": "markdown",
   "id": "8e495864",
   "metadata": {},
   "source": [
    "### Exploring the Lazy vs Eager API"
   ]
  },
  {
   "cell_type": "code",
   "execution_count": null,
   "id": "eb7a52ed",
   "metadata": {},
   "outputs": [],
   "source": []
  }
 ],
 "metadata": {
  "kernelspec": {
   "display_name": "Python 3 (ipykernel)",
   "language": "python",
   "name": "python3"
  },
  "language_info": {
   "codemirror_mode": {
    "name": "ipython",
    "version": 3
   },
   "file_extension": ".py",
   "mimetype": "text/x-python",
   "name": "python",
   "nbconvert_exporter": "python",
   "pygments_lexer": "ipython3",
   "version": "3.8.9"
  }
 },
 "nbformat": 4,
 "nbformat_minor": 5
}
