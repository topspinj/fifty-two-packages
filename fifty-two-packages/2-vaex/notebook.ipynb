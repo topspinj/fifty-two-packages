{
 "cells": [
  {
   "cell_type": "markdown",
   "id": "492cf476",
   "metadata": {},
   "source": [
    "# Vaex\n",
    "\n",
    "- [Website](https://vaex.io/)\n",
    "- [Github repo](https://github.com/vaexio/vaex)\n",
    "\n",
    "Vaex is a lazy out-of-core dataframe API that is meant for visualizing and exploring large datasets. Vaex uses memory mapping, zero memory copy policy and lazy computations for best performance\n",
    "\n",
    "```\n",
    "pip install vaex\n",
    "```"
   ]
  },
  {
   "cell_type": "code",
   "execution_count": 1,
   "id": "0f97cef3",
   "metadata": {},
   "outputs": [],
   "source": [
    "import vaex"
   ]
  },
  {
   "cell_type": "markdown",
   "id": "04cd6b91",
   "metadata": {},
   "source": [
    "The nice thing about Vaex is that it has an example dataframe that you can play with to get your feet wet. You can access this toy dataframe as shown below:"
   ]
  },
  {
   "cell_type": "code",
   "execution_count": 2,
   "id": "ce9f3878",
   "metadata": {},
   "outputs": [
    {
     "data": {
      "text/plain": [
       "(330000, 11)"
      ]
     },
     "execution_count": 2,
     "metadata": {},
     "output_type": "execute_result"
    }
   ],
   "source": [
    "df = vaex.example()\n",
    "df.shape"
   ]
  },
  {
   "cell_type": "markdown",
   "id": "b25ea97d",
   "metadata": {},
   "source": [
    "### Loading Data \n",
    "\n",
    "If you already have a dataset that you want to work with, you can load it in as a Vaex dataframe using: \n",
    "- `from_csv` for comma separate value files \n",
    "- `from_pandas` for existing Pandas DataFrames\n",
    "\n",
    "Let's load in an online retail sales dataset, which I found on [Kaggle](https://www.kaggle.com/datasets/thedevastator/online-retail-sales-and-customer-data?resource=download)."
   ]
  },
  {
   "cell_type": "code",
   "execution_count": 3,
   "id": "0a06fda3",
   "metadata": {},
   "outputs": [
    {
     "data": {
      "text/plain": [
       "(541909, 9)"
      ]
     },
     "execution_count": 3,
     "metadata": {},
     "output_type": "execute_result"
    }
   ],
   "source": [
    "df = vaex.from_csv(\"data/online_retail.csv\")\n",
    "df.shape"
   ]
  },
  {
   "cell_type": "markdown",
   "id": "e6b03d5c",
   "metadata": {},
   "source": [
    "This dataframe has similar methods and attributes as a Pandas dataframe but the datatype is different:"
   ]
  },
  {
   "cell_type": "code",
   "execution_count": 4,
   "id": "1038c2ee",
   "metadata": {},
   "outputs": [
    {
     "data": {
      "text/plain": [
       "vaex.dataframe.DataFrameLocal"
      ]
     },
     "execution_count": 4,
     "metadata": {},
     "output_type": "execute_result"
    }
   ],
   "source": [
    "type(df)"
   ]
  },
  {
   "cell_type": "markdown",
   "id": "520e12ee",
   "metadata": {},
   "source": [
    "### Columns != Numpy Arrays\n",
    "\n",
    "You can fetch an individual column using the same approach as you would with Pandas. The only difference is that Pandas would return a Numpy array but Vaex returns an \"expression\". "
   ]
  },
  {
   "cell_type": "code",
   "execution_count": 5,
   "id": "203ad9fe",
   "metadata": {},
   "outputs": [
    {
     "data": {
      "text/plain": [
       "Expression = Description\n",
       "Length: 541,909 dtype: string (column)\n",
       "--------------------------------------\n",
       "     0   WHITE HANGING HEART T-LIGHT HOLDER\n",
       "     1                  WHITE METAL LANTERN\n",
       "     2       CREAM CUPID HEARTS COAT HANGER\n",
       "     3  KNITTED UNION FLAG HOT WATER BOTTLE\n",
       "     4       RED WOOLLY HOTTIE WHITE HEART.\n",
       "                    ...                    \n",
       "541904          PACK OF 20 SPACEBOY NAPKINS\n",
       "541905          CHILDREN'S APRON DOLLY GIRL\n",
       "541906         CHILDRENS CUTLERY DOLLY GIRL\n",
       "541907      CHILDRENS CUTLERY CIRCUS PARADE\n",
       "541908         BAKING SET 9 PIECE RETROSPOT"
      ]
     },
     "execution_count": 5,
     "metadata": {},
     "output_type": "execute_result"
    }
   ],
   "source": [
    "df['Description']"
   ]
  },
  {
   "cell_type": "markdown",
   "id": "c92a61b9",
   "metadata": {},
   "source": [
    "### Virtual Columns"
   ]
  },
  {
   "cell_type": "markdown",
   "id": "a183faab",
   "metadata": {},
   "source": [
    "When creating a new column on a Vaex dataframe, this actually gets represented as a \"virtual\" column. Virtual columns are computed when needed and don't take up any memory. Lazy computation for the win!"
   ]
  },
  {
   "cell_type": "code",
   "execution_count": 6,
   "id": "c735d563",
   "metadata": {},
   "outputs": [],
   "source": [
    "df['total_price'] = df['Quantity']*df['UnitPrice']"
   ]
  },
  {
   "cell_type": "markdown",
   "id": "0863af1a",
   "metadata": {},
   "source": [
    "### Plotting "
   ]
  },
  {
   "cell_type": "markdown",
   "id": "1c5dacec",
   "metadata": {},
   "source": [
    "There are some nice, easy-to-use plotting functions that come with Vaex. Vaex wraps Matplotlib, hence the Matplotlib-like plots:"
   ]
  },
  {
   "cell_type": "code",
   "execution_count": 7,
   "id": "b61966e4",
   "metadata": {},
   "outputs": [
    {
     "data": {
      "text/plain": [
       "[<matplotlib.lines.Line2D at 0x14e40dc70>]"
      ]
     },
     "execution_count": 7,
     "metadata": {},
     "output_type": "execute_result"
    },
    {
     "data": {
      "image/png": "[encoded data removed]",
      "text/plain": [
       "<Figure size 640x480 with 1 Axes>"
      ]
     },
     "metadata": {},
     "output_type": "display_data"
    }
   ],
   "source": [
    "df.viz.histogram(df.total_price, limits='98%')"
   ]
  },
  {
   "cell_type": "markdown",
   "id": "0befc41f",
   "metadata": {},
   "source": [
    "The `limits` parameter lets you decide what percentage of data to build the histogram with. "
   ]
  },
  {
   "cell_type": "markdown",
   "id": "2b5df059",
   "metadata": {},
   "source": [
    "The 2D scatterplot has a 5K row limit so in this case, we're going to need to work with a smaller subset of the original dataframe:"
   ]
  },
  {
   "cell_type": "code",
   "execution_count": 8,
   "id": "18f90dd5",
   "metadata": {},
   "outputs": [
    {
     "data": {
      "text/plain": [
       "<matplotlib.collections.PathCollection at 0x14e4e98b0>"
      ]
     },
     "execution_count": 8,
     "metadata": {},
     "output_type": "execute_result"
    },
    {
     "data": {
      "image/png": "[encoded data removed]",
      "text/plain": [
       "<Figure size 640x480 with 1 Axes>"
      ]
     },
     "metadata": {},
     "output_type": "display_data"
    }
   ],
   "source": [
    "df.viz.scatter(\n",
    "    df['Quantity'], df['UnitPrice'], \n",
    "    selection=df['total_price']>50)"
   ]
  },
  {
   "cell_type": "markdown",
   "id": "99d6d930",
   "metadata": {},
   "source": [
    "### Grouping By"
   ]
  },
  {
   "cell_type": "markdown",
   "id": "5c010401",
   "metadata": {},
   "source": [
    "To do a group-by aggregation, you can use Vaex's `groupby` method:"
   ]
  },
  {
   "cell_type": "code",
   "execution_count": 10,
   "id": "768b3892",
   "metadata": {},
   "outputs": [
    {
     "data": {
      "text/html": [
       "<table>\n",
       "<thead>\n",
       "<tr><th>#                            </th><th>Country       </th><th style=\"text-align: right;\">  UnitPrice</th></tr>\n",
       "</thead>\n",
       "<tbody>\n",
       "<tr><td><i style='opacity: 0.6'>0</i></td><td>Sweden        </td><td style=\"text-align: right;\">    3.91089</td></tr>\n",
       "<tr><td><i style='opacity: 0.6'>1</i></td><td>Italy         </td><td style=\"text-align: right;\">    4.83112</td></tr>\n",
       "<tr><td><i style='opacity: 0.6'>2</i></td><td>Finland       </td><td style=\"text-align: right;\">    5.44871</td></tr>\n",
       "<tr><td><i style='opacity: 0.6'>3</i></td><td>Czech Republic</td><td style=\"text-align: right;\">    2.93833</td></tr>\n",
       "<tr><td><i style='opacity: 0.6'>4</i></td><td>Spain         </td><td style=\"text-align: right;\">    4.98754</td></tr>\n",
       "</tbody>\n",
       "</table>"
      ],
      "text/plain": [
       "  #  Country           UnitPrice\n",
       "  0  Sweden              3.91089\n",
       "  1  Italy               4.83112\n",
       "  2  Finland             5.44871\n",
       "  3  Czech Republic      2.93833\n",
       "  4  Spain               4.98754"
      ]
     },
     "execution_count": 10,
     "metadata": {},
     "output_type": "execute_result"
    }
   ],
   "source": [
    "df.groupby(by='Country').agg({'UnitPrice': 'mean'}).head(5)"
   ]
  },
  {
   "cell_type": "markdown",
   "id": "2db8ddba",
   "metadata": {},
   "source": [
    "The cool thing about groupby, is that you can specify your selections directly in the groupby call:"
   ]
  },
  {
   "cell_type": "code",
   "execution_count": 20,
   "id": "21adf089",
   "metadata": {
    "scrolled": true
   },
   "outputs": [
    {
     "data": {
      "text/html": [
       "<table>\n",
       "<thead>\n",
       "<tr><th>#                            </th><th>Country       </th><th style=\"text-align: right;\">  mean_unit_price_greater_than_50_quantity</th><th style=\"text-align: right;\">  mean_unit_price_greater_than_100_quantity</th><th style=\"text-align: right;\">  mean_unit_price_greater_than_1k_quantity</th></tr>\n",
       "</thead>\n",
       "<tbody>\n",
       "<tr><td><i style='opacity: 0.6'>0</i></td><td>Sweden        </td><td style=\"text-align: right;\">                                   1.16303</td><td style=\"text-align: right;\">                                   0.887615</td><td style=\"text-align: right;\">                                       nan</td></tr>\n",
       "<tr><td><i style='opacity: 0.6'>1</i></td><td>Italy         </td><td style=\"text-align: right;\">                                   0.584  </td><td style=\"text-align: right;\">                                   0.555   </td><td style=\"text-align: right;\">                                       nan</td></tr>\n",
       "<tr><td><i style='opacity: 0.6'>2</i></td><td>Finland       </td><td style=\"text-align: right;\">                                   1.62562</td><td style=\"text-align: right;\">                                   0.424545</td><td style=\"text-align: right;\">                                       nan</td></tr>\n",
       "<tr><td><i style='opacity: 0.6'>3</i></td><td>Czech Republic</td><td style=\"text-align: right;\">                                   0.29   </td><td style=\"text-align: right;\">                                 nan       </td><td style=\"text-align: right;\">                                       nan</td></tr>\n",
       "<tr><td><i style='opacity: 0.6'>4</i></td><td>Spain         </td><td style=\"text-align: right;\">                                   1.89846</td><td style=\"text-align: right;\">                                   2.18474 </td><td style=\"text-align: right;\">                                       nan</td></tr>\n",
       "</tbody>\n",
       "</table>"
      ],
      "text/plain": [
       "  #  Country           mean_unit_price_greater_than_50_quantity    mean_unit_price_greater_than_100_quantity    mean_unit_price_greater_than_1k_quantity\n",
       "  0  Sweden                                             1.16303                                     0.887615                                         nan\n",
       "  1  Italy                                              0.584                                       0.555                                            nan\n",
       "  2  Finland                                            1.62562                                     0.424545                                         nan\n",
       "  3  Czech Republic                                     0.29                                      nan                                                nan\n",
       "  4  Spain                                              1.89846                                     2.18474                                          nan"
      ]
     },
     "execution_count": 20,
     "metadata": {},
     "output_type": "execute_result"
    }
   ],
   "source": [
    "df.groupby(\n",
    "    by='Country',\n",
    "    agg={\n",
    "        'mean_unit_price_greater_than_50_quantity': vaex.agg.mean('UnitPrice', selection='Quantity>50'),\n",
    "        'mean_unit_price_greater_than_100_quantity': vaex.agg.mean('UnitPrice', selection='Quantity>100'),\n",
    "        'mean_unit_price_greater_than_1k_quantity': vaex.agg.mean('UnitPrice', selection='Quantity>1000'),\n",
    "    }).head(5)"
   ]
  }
 ],
 "metadata": {
  "kernelspec": {
   "display_name": "Python 3 (ipykernel)",
   "language": "python",
   "name": "python3"
  },
  "language_info": {
   "codemirror_mode": {
    "name": "ipython",
    "version": 3
   },
   "file_extension": ".py",
   "mimetype": "text/x-python",
   "name": "python",
   "nbconvert_exporter": "python",
   "pygments_lexer": "ipython3",
   "version": "3.8.9"
  }
 },
 "nbformat": 4,
 "nbformat_minor": 5
}
