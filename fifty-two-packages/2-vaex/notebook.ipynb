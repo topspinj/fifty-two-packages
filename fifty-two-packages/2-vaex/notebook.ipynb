{
 "cells": [
  {
   "cell_type": "markdown",
   "id": "492cf476",
   "metadata": {},
   "source": [
    "# Vaex\n",
    "\n",
    "- [Website](https://vaex.io/)\n",
    "- [Github repo](https://github.com/vaexio/vaex)\n",
    "\n",
    "Vaex is a lazy out-of-core dataframe API that is meant for visualizing and exploring large datasets. Vaex uses memory mapping, zero memory copy policy and lazy computations for best performance\n",
    "\n",
    "```\n",
    "pip install vaex\n",
    "```"
   ]
  },
  {
   "cell_type": "code",
   "execution_count": 1,
   "id": "0f97cef3",
   "metadata": {},
   "outputs": [],
   "source": [
    "import vaex"
   ]
  },
  {
   "cell_type": "code",
   "execution_count": 4,
   "id": "ce9f3878",
   "metadata": {},
   "outputs": [],
   "source": [
    "df = vaex.example()"
   ]
  },
  {
   "cell_type": "code",
   "execution_count": 3,
   "id": "a3dbea52",
   "metadata": {},
   "outputs": [
    {
     "data": {
      "text/plain": [
       "(330000, 11)"
      ]
     },
     "execution_count": 3,
     "metadata": {},
     "output_type": "execute_result"
    }
   ],
   "source": [
    "df.shape"
   ]
  },
  {
   "cell_type": "code",
   "execution_count": null,
   "id": "1038c2ee",
   "metadata": {},
   "outputs": [],
   "source": []
  }
 ],
 "metadata": {
  "kernelspec": {
   "display_name": "Python 3 (ipykernel)",
   "language": "python",
   "name": "python3"
  },
  "language_info": {
   "codemirror_mode": {
    "name": "ipython",
    "version": 3
   },
   "file_extension": ".py",
   "mimetype": "text/x-python",
   "name": "python",
   "nbconvert_exporter": "python",
   "pygments_lexer": "ipython3",
   "version": "3.8.9"
  }
 },
 "nbformat": 4,
 "nbformat_minor": 5
}
